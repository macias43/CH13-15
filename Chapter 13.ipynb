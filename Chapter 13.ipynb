{
 "cells": [
  {
   "cell_type": "code",
   "execution_count": 1,
   "id": "e0064dbc",
   "metadata": {},
   "outputs": [
    {
     "name": "stdout",
     "output_type": "stream",
     "text": [
      "Current date (2023-09-28) has been written to today.txt.\n"
     ]
    }
   ],
   "source": [
    "from datetime import datetime\n",
    "\n",
    "# Geting the current date as a string\n",
    "current_date = datetime.now().strftime(\"%Y-%m-%d\")\n",
    "\n",
    "# Writing the date to the file\n",
    "with open(\"today.txt\", \"w\") as file:\n",
    "    file.write(current_date)\n",
    "\n",
    "print(f\"Current date ({current_date}) has been written to today.txt.\")\n"
   ]
  },
  {
   "cell_type": "code",
   "execution_count": 2,
   "id": "efc9fe28",
   "metadata": {},
   "outputs": [
    {
     "name": "stdout",
     "output_type": "stream",
     "text": [
      "Contents of today.txt:\n",
      "2023-09-28\n"
     ]
    }
   ],
   "source": [
    "# Reading the contents of the file into the string\n",
    "with open(\"today.txt\", \"r\") as file:\n",
    "    today_string = file.read()\n",
    "\n",
    "print(\"Contents of today.txt:\")\n",
    "print(today_string)\n"
   ]
  },
  {
   "cell_type": "code",
   "execution_count": 3,
   "id": "63c27eca",
   "metadata": {},
   "outputs": [
    {
     "name": "stdout",
     "output_type": "stream",
     "text": [
      "Parsed date: 2023-09-28 00:00:00\n"
     ]
    }
   ],
   "source": [
    "from datetime import datetime\n",
    "\n",
    "today_date = datetime.strptime(today_string, \"%Y-%m-%d\")\n",
    "\n",
    "print(\"Parsed date:\", today_date)\n"
   ]
  }
 ],
 "metadata": {
  "kernelspec": {
   "display_name": "Python 3 (ipykernel)",
   "language": "python",
   "name": "python3"
  },
  "language_info": {
   "codemirror_mode": {
    "name": "ipython",
    "version": 3
   },
   "file_extension": ".py",
   "mimetype": "text/x-python",
   "name": "python",
   "nbconvert_exporter": "python",
   "pygments_lexer": "ipython3",
   "version": "3.11.4"
  }
 },
 "nbformat": 4,
 "nbformat_minor": 5
}
